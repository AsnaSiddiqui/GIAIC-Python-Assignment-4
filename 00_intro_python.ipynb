{
  "nbformat": 4,
  "nbformat_minor": 0,
  "metadata": {
    "colab": {
      "provenance": [],
      "authorship_tag": "ABX9TyO1PiEHIZGpC9iWtTrsVbvR",
      "include_colab_link": true
    },
    "kernelspec": {
      "name": "python3",
      "display_name": "Python 3"
    },
    "language_info": {
      "name": "python"
    }
  },
  "cells": [
    {
      "cell_type": "markdown",
      "metadata": {
        "id": "view-in-github",
        "colab_type": "text"
      },
      "source": [
        "<a href=\"https://colab.research.google.com/github/AsnaSiddiqui/GIAIC-Python-Assignment-4/blob/main/00_intro_python.ipynb\" target=\"_parent\"><img src=\"https://colab.research.google.com/assets/colab-badge.svg\" alt=\"Open In Colab\"/></a>"
      ]
    },
    {
      "cell_type": "code",
      "execution_count": 26,
      "metadata": {
        "id": "ihdTYuPEhOt5",
        "colab": {
          "base_uri": "https://localhost:8080/"
        },
        "outputId": "78e8c780-a049-4aef-8af5-1af02debfcf1"
      },
      "outputs": [
        {
          "output_type": "stream",
          "name": "stdout",
          "text": [
            "01_add_two_numbers \n",
            "\n",
            "This application add two number \n",
            "\n",
            "Enter your first number: 70\n",
            "Enter your second number: 10\n",
            "Sum is 80\n"
          ]
        }
      ],
      "source": [
        "print(\"01_add_two_numbers \\n\")\n",
        "\n",
        "def add():\n",
        "  print(\"This application add two number \\n\")\n",
        "  first_number = int(input(\"Enter your first number: \"))\n",
        "  second_number = int(input(\"Enter your second number: \"))\n",
        "  print(\"Sum is\",first_number + second_number)\n",
        "\n",
        "if __name__ == \"__main__\":\n",
        "  add()\n"
      ]
    },
    {
      "cell_type": "code",
      "source": [
        "print(\"02_agreement_bot \\n\")\n",
        "\n",
        "def bot():\n",
        "  animal = str(input(\"What's your favorite animal? \"))\n",
        "  print(f'My favorite animal is also a {animal}!')\n",
        "\n",
        "if __name__ == \"__main__\":\n",
        "  bot()"
      ],
      "metadata": {
        "colab": {
          "base_uri": "https://localhost:8080/"
        },
        "id": "F4FNOH8Fubwr",
        "outputId": "1897f239-53a6-431e-91e1-12cc340847b5"
      },
      "execution_count": 32,
      "outputs": [
        {
          "output_type": "stream",
          "name": "stdout",
          "text": [
            "02_agreement_bot \n",
            "\n",
            "What's your favorite animal? dog\n",
            "My favorite animal is also a dog!\n"
          ]
        }
      ]
    },
    {
      "cell_type": "code",
      "source": [
        "print(\"03_fahrenheit_to_celsius \\n\")\n",
        "\n",
        "def convert():\n",
        "  print(\"Converting your temperature from Fahrenheit to Celsius \\n\")\n",
        "  temperature = int(input(\"Enter your temperature Fahrenheit: \"))\n",
        "  converting = (temperature - 32) * 5.0/9.0\n",
        "  print(f'Your temperature in Celsius is {converting}C')\n",
        "\n",
        "if __name__ == \"__main__\":\n",
        "  convert()\n"
      ],
      "metadata": {
        "colab": {
          "base_uri": "https://localhost:8080/"
        },
        "id": "CgaToZNQxrzn",
        "outputId": "534874e6-049f-4fb5-856e-ccab31c0cdd3"
      },
      "execution_count": 42,
      "outputs": [
        {
          "output_type": "stream",
          "name": "stdout",
          "text": [
            "03_fahrenheit_to_celsius \n",
            "\n",
            "Converting your temperature from Fahrenheit to Celsius \n",
            "\n",
            "Enter your temperature Fahrenheit: 33\n",
            "Your temperature in Celsius is 0.5555555555555556C\n"
          ]
        }
      ]
    },
    {
      "cell_type": "code",
      "source": [
        "print(\"04_how_old_are_they \\n\")\n",
        "\n",
        "def ages():\n",
        "  print(\"age-related riddle! \\n\")\n",
        "  anthon:int = 21\n",
        "  beth:int = 6 + anthon\n",
        "  chen:int = 20 + beth\n",
        "  drew:int = chen + anthon\n",
        "  ethan:int = chen\n",
        "\n",
        "  print(\"Anthon is \" + str(anthon) + \" years old\")\n",
        "  print(\"Beth is \" + str(beth) + \" years old\")\n",
        "  print(\"Chen is \" + str(chen) + \" years old\")\n",
        "  print(\"Drew is \" + str(drew) + \" years old\")\n",
        "  print(\"Ethan is \" + str(ethan) + \" years old\")\n",
        "\n",
        "if __name__ == \"__main__\":\n",
        "  ages()"
      ],
      "metadata": {
        "colab": {
          "base_uri": "https://localhost:8080/"
        },
        "id": "c3u0m3yP01EB",
        "outputId": "dae4cbc7-378f-4044-9e0e-91c15cb27e7c"
      },
      "execution_count": 55,
      "outputs": [
        {
          "output_type": "stream",
          "name": "stdout",
          "text": [
            "04_how_old_are_they \n",
            "\n",
            "age-related riddle! \n",
            "\n",
            "Anthon is 21 years old\n",
            "Beth is 27 years old\n",
            "Chen is 47 years old\n",
            "Drew is 68 years old\n",
            "Ethan is 47 years old\n"
          ]
        }
      ]
    },
    {
      "cell_type": "code",
      "source": [
        "print(\"05_triangle_perimeter \\n\")\n",
        "\n",
        "def triangle():\n",
        "  print(\"This code is about to sum of triangle sides. \\n\")\n",
        "  side_1 = float(input(\"Enter the first side of the triangle length: \"))\n",
        "  side_2 = float(input(\"Enter the second side of the triangle length: \"))\n",
        "  side_3 = float(input(\"Enter the third side of the triangle length: \"))\n",
        "  perimeter = side_1 + side_2 + side_3\n",
        "  print(f'The perimeter of the triangle is {perimeter}')\n",
        "\n",
        "if __name__ == \"__main__\":\n",
        "  triangle()"
      ],
      "metadata": {
        "colab": {
          "base_uri": "https://localhost:8080/"
        },
        "id": "6x-KP-JV7kDw",
        "outputId": "fd450b8f-dcc1-440d-c5ab-6e2fa4605fe4"
      },
      "execution_count": 63,
      "outputs": [
        {
          "output_type": "stream",
          "name": "stdout",
          "text": [
            "05_triangle_perimeter \n",
            "\n",
            "This code is about to sum of triangle sides. \n",
            "\n",
            "Enter the first side of the triangle length: 6\n",
            "Enter the second side of the triangle length: 6\n",
            "Enter the third side of the triangle length: 6\n",
            "The perimeter of the triangle is 18.0\n"
          ]
        }
      ]
    },
    {
      "cell_type": "code",
      "source": [
        "print(\"06_square_number \\n\")\n",
        "\n",
        "def square():\n",
        "  print(\"This code is about to square a number. \\n\")\n",
        "  num:float = float(input(\"Type a number to see its square \"))\n",
        "  print(f'The square of {num} is {num**2}')\n",
        "\n",
        "if __name__ == \"__main__\":\n",
        "  square()"
      ],
      "metadata": {
        "colab": {
          "base_uri": "https://localhost:8080/"
        },
        "id": "I4cbQVLr9myU",
        "outputId": "381da2a1-bd46-4304-987f-199b9732e84b"
      },
      "execution_count": 64,
      "outputs": [
        {
          "output_type": "stream",
          "name": "stdout",
          "text": [
            "06_square_number \n",
            "\n",
            "This code is about to square a number. \n",
            "\n",
            "Type a number to see its square 3\n",
            "The square of 3.0 is 9.0\n"
          ]
        }
      ]
    }
  ]
}