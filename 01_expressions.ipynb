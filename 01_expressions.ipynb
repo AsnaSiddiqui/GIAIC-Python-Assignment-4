{
  "nbformat": 4,
  "nbformat_minor": 0,
  "metadata": {
    "colab": {
      "provenance": [],
      "authorship_tag": "ABX9TyOEYLUPSx5ld7cLflITh09E",
      "include_colab_link": true
    },
    "kernelspec": {
      "name": "python3",
      "display_name": "Python 3"
    },
    "language_info": {
      "name": "python"
    }
  },
  "cells": [
    {
      "cell_type": "markdown",
      "metadata": {
        "id": "view-in-github",
        "colab_type": "text"
      },
      "source": [
        "<a href=\"https://colab.research.google.com/github/AsnaSiddiqui/GIAIC-Python-Assignment-4/blob/main/01_expressions.ipynb\" target=\"_parent\"><img src=\"https://colab.research.google.com/assets/colab-badge.svg\" alt=\"Open In Colab\"/></a>"
      ]
    },
    {
      "cell_type": "code",
      "execution_count": null,
      "metadata": {
        "colab": {
          "base_uri": "https://localhost:8080/"
        },
        "id": "JYZnQGsqaPJ5",
        "outputId": "c20712de-15b5-44a2-acdc-4ce2037594b4"
      },
      "outputs": [
        {
          "output_type": "stream",
          "name": "stdout",
          "text": [
            "01_dicesimulator \n",
            "\n",
            "die1 in main() starts as: 10\n",
            "The total of dies is 6\n",
            "The total of dies is 8\n",
            "The total of dies is 5\n",
            "die1 in main() is: 10\n"
          ]
        }
      ],
      "source": [
        "print(\"01_dicesimulator \\n\")\n",
        "\n",
        "import random\n",
        "\n",
        "def roll_dice():\n",
        "  die_1:int = random.randint(1,6)\n",
        "  die_2:int = random.randint(1,6)\n",
        "  total:int = die_1 + die_2\n",
        "  print(f\"The total of dies is {total}\")\n",
        "\n",
        "def main():\n",
        "  die1: int = 10\n",
        "  print(\"die1 in main() starts as: \" + str(die1))\n",
        "  roll_dice()\n",
        "  roll_dice()\n",
        "  roll_dice()\n",
        "  print(\"die1 in main() is: \" + str(die1))\n",
        "\n",
        "if __name__ == '__main__':\n",
        "    main()"
      ]
    },
    {
      "cell_type": "code",
      "source": [
        "print(\"02_e=mc2 \\n\")\n",
        "\n",
        "def energy():\n",
        "  c :int = 299792458\n",
        "  m : float = float(input(\"Enter kilos of mass: \"))\n",
        "  print(\"e = m*c^2\")\n",
        "  print(\"m = \" + str(m) + \"kg\")\n",
        "  print(\"c = \" + str(c) + \"m/s\")\n",
        "  print(\"e = \" + str( m*c**2 ) + \" Joules\")\n",
        "\n",
        "if __name__ == '__main__':\n",
        "    energy()"
      ],
      "metadata": {
        "colab": {
          "base_uri": "https://localhost:8080/"
        },
        "id": "dhz02D3ZfGyL",
        "outputId": "a9881047-b7d0-4400-ce13-73541f0cca64"
      },
      "execution_count": null,
      "outputs": [
        {
          "output_type": "stream",
          "name": "stdout",
          "text": [
            "02_e=mc2 \n",
            "\n",
            "Enter kilos of mass: 1\n",
            "e = m*c^2\n",
            "m = 1.0kg\n",
            "c = 299792458m/s\n",
            "e = 8.987551787368176e+16 Joules\n"
          ]
        }
      ]
    },
    {
      "cell_type": "code",
      "source": [
        "print(\"03_feet_to_inches \\n\")\n",
        "\n",
        "def converting():\n",
        "  inches_in_foot: int = 12\n",
        "  feet:float = float(input(\"Enter number of feet: \"))\n",
        "  inches:float = feet * inches_in_foot\n",
        "  print(f\"{feet} feet is equal to {inches} inches\")\n",
        "\n",
        "if __name__ == '__main__':\n",
        "    converting()"
      ],
      "metadata": {
        "colab": {
          "base_uri": "https://localhost:8080/"
        },
        "id": "GsrbWi9jnP4X",
        "outputId": "a4107a22-bad2-4091-a528-4b617920e155"
      },
      "execution_count": null,
      "outputs": [
        {
          "output_type": "stream",
          "name": "stdout",
          "text": [
            "03_feet_to_inches \n",
            "\n",
            "Enter number of feet: 23\n",
            "23.0 feet is equal to 276.0 inches\n"
          ]
        }
      ]
    },
    {
      "cell_type": "code",
      "source": [
        "print(\"04_pythagorean_theorem \\n\")\n",
        "\n",
        "import math\n",
        "\n",
        "def hypotenuse():\n",
        "  ab:float  = float(input(\"Enter the length of side ab: \"))\n",
        "  ac:float  = float(input(\"Enter the length of side ac: \"))\n",
        "  bc:float  = math.sqrt(ab**2 + ac**2)\n",
        "  print(f\"The length of side BC is {bc}\")\n",
        "\n",
        "if __name__ == '__main__':\n",
        "    hypotenuse()\n"
      ],
      "metadata": {
        "colab": {
          "base_uri": "https://localhost:8080/"
        },
        "id": "3lo5-y5goa6r",
        "outputId": "e7227b32-cc14-4412-ba88-6f6238b6a1da"
      },
      "execution_count": null,
      "outputs": [
        {
          "output_type": "stream",
          "name": "stdout",
          "text": [
            "04_pythagorean_theorem \n",
            "\n",
            "Enter the length of side ab: 2\n",
            "Enter the length of side ac: 4\n",
            "The length of side BC is 4.47213595499958\n"
          ]
        }
      ]
    },
    {
      "cell_type": "code",
      "source": [
        "print(\"05_remainder_division \\n\")\n",
        "\n",
        "def division():\n",
        "  dividend:int = int(input(\"Enter a value to be divided: \"))\n",
        "  divisor:int = int(input(\"Enter a value to divided by: \"))\n",
        "  quotient:int = dividend // divisor\n",
        "  remainder:int = dividend % divisor\n",
        "  print(f\"{dividend} divided by {divisor} is {quotient} with a remainder of {remainder}\")\n",
        "\n",
        "if __name__ == '__main__':\n",
        "    division()"
      ],
      "metadata": {
        "colab": {
          "base_uri": "https://localhost:8080/"
        },
        "id": "ICEOGcATp4vL",
        "outputId": "7f7f3aa7-c31d-4c7a-ce72-5918ab73844b"
      },
      "execution_count": null,
      "outputs": [
        {
          "output_type": "stream",
          "name": "stdout",
          "text": [
            "05_remainder_division \n",
            "\n",
            "Enter a value to be divided: 3\n",
            "Enter a value to divided by: 6\n",
            "3 divided by 6 is 0 with a remainder of 3\n"
          ]
        }
      ]
    },
    {
      "cell_type": "code",
      "source": [
        "print(\"06_rolldice \\n\")\n",
        "\n",
        "import random\n",
        "\n",
        "def roll_dice():\n",
        "  sides:int = 6\n",
        "  die_1:int = random.randint(1, sides)\n",
        "  die_2:int = random.randint(1, sides)\n",
        "  total:int = die_1 + die_2\n",
        "  print(\"Dice have\", sides, \"sides each.\")\n",
        "  print(\"First die:\", die_1)\n",
        "  print(\"Second die:\", die_2)\n",
        "  print(\"Total of two dice:\", total)\n",
        "\n",
        "if __name__ == '__main__':\n",
        "    roll_dice()\n"
      ],
      "metadata": {
        "colab": {
          "base_uri": "https://localhost:8080/"
        },
        "id": "ILnw69ffrSvS",
        "outputId": "14047aa3-6ce9-41f4-831b-0ba459c7e62f"
      },
      "execution_count": null,
      "outputs": [
        {
          "output_type": "stream",
          "name": "stdout",
          "text": [
            "06_rolldice \n",
            "\n",
            "Dice have 6 sides each.\n",
            "First die: 5\n",
            "Second die: 3\n",
            "Total of two dice: 8\n"
          ]
        }
      ]
    },
    {
      "cell_type": "code",
      "source": [
        "print(\"07_seconds_in_year \\n\")\n",
        "\n",
        "def seconds_in_year():\n",
        "  days_per_year: int = 365\n",
        "  hours_per_day: int = 24\n",
        "  min_per_hour: int = 60\n",
        "  sec_per_min: int = 60\n",
        "  seconds_in_year: int = days_per_year * hours_per_day * min_per_hour * sec_per_min\n",
        "  print(f\"There are {seconds_in_year} seconds in a year.\")\n",
        "\n",
        "if __name__ == '__main__':\n",
        "    seconds_in_year()"
      ],
      "metadata": {
        "colab": {
          "base_uri": "https://localhost:8080/"
        },
        "id": "_o1nt2l8tvCS",
        "outputId": "a62deeee-d876-4a42-f6bd-3fb8a25ad9b1"
      },
      "execution_count": null,
      "outputs": [
        {
          "output_type": "stream",
          "name": "stdout",
          "text": [
            "06_seconds_in_year \n",
            "\n",
            "There are 31536000 seconds in a year.\n"
          ]
        }
      ]
    },
    {
      "cell_type": "code",
      "source": [
        "print(\"08_tiny_mad_lib \\n\")\n",
        "\n",
        "def mad_lib():\n",
        "  noun:str = input(\"Enter a noun: \")\n",
        "  verb:str = input(\"Enter a verb: \")\n",
        "  adjective:str = input(\"Enter an adjective: \")\n",
        "  adverb:str = input(\"Enter an adverb: \")\n",
        "  print(f\"Do you {verb} your {adjective} {noun} {adverb}? That's hilarious!\")\n",
        "\n",
        "if __name__ == '__main__':\n",
        "    mad_lib()"
      ],
      "metadata": {
        "id": "BkNmohOxu3Bh",
        "colab": {
          "base_uri": "https://localhost:8080/"
        },
        "outputId": "e17b0dc2-c1c6-4611-ba9f-dba5192ada2f"
      },
      "execution_count": 2,
      "outputs": [
        {
          "output_type": "stream",
          "name": "stdout",
          "text": [
            "07_tiny_mad_lib \n",
            "\n",
            "Enter a noun: cat\n",
            "Enter a verb: eat\n",
            "Enter an adjective: little\n",
            "Enter an adverb: carefully\n",
            "Do you eat your little cat carefully? That's hilarious!\n"
          ]
        }
      ]
    }
  ]
}